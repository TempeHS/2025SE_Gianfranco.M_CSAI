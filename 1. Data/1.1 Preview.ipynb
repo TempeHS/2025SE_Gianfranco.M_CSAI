{
 "cells": [
  {
   "cell_type": "markdown",
   "metadata": {},
   "source": [
    "# Counter-Strike Win Prediction Data "
   ]
  },
  {
   "cell_type": "markdown",
   "metadata": {},
   "source": [
    "### Where is this data from?\n",
    "\n",
    "This data was collected from 700 demos (game recordings) of high-level esport tournament games.\n",
    "\n",
    "### What is this dataset?\n",
    "\n",
    "Sourced from OpenML, this dataset defines the attributes a winning team has throughout the round. For more specifics, view the source link below."
   ]
  },
  {
   "cell_type": "markdown",
   "metadata": {},
   "source": [
    "[dataset source link](www.openml.org/search?type=data&status=active&id=43430)"
   ]
  },
  {
   "cell_type": "markdown",
   "metadata": {},
   "source": [
    "copilot for gaming"
   ]
  },
  {
   "cell_type": "markdown",
   "metadata": {},
   "source": [
    "ㅤ"
   ]
  }
 ],
 "metadata": {
  "language_info": {
   "name": "python"
  }
 },
 "nbformat": 4,
 "nbformat_minor": 2
}
