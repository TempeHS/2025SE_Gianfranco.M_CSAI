{
 "cells": [
  {
   "cell_type": "markdown",
   "metadata": {},
   "source": [
    "# Data Preprocessing\n",
    "\n",
    "### This process will involve loading the data, and wrangling it."
   ]
  },
  {
   "cell_type": "markdown",
   "metadata": {},
   "source": [
    "Load all dependancies"
   ]
  },
  {
   "cell_type": "code",
   "execution_count": null,
   "metadata": {},
   "outputs": [],
   "source": [
    "import matplotlib.pyplot as plt\n",
    "import seaborn as sns\n",
    "import pandas as pd\n",
    "import numpy as np\n",
    "from sklearn import preprocessing"
   ]
  },
  {
   "cell_type": "markdown",
   "metadata": {},
   "source": [
    "Load the data located at \"csgo_data.csv\""
   ]
  },
  {
   "cell_type": "code",
   "execution_count": 3,
   "metadata": {},
   "outputs": [
    {
     "data": {
      "application/vnd.microsoft.datawrangler.viewer.v0+json": {
       "columns": [
        {
         "name": "index",
         "rawType": "int64",
         "type": "integer"
        },
        {
         "name": "time_left",
         "rawType": "float64",
         "type": "float"
        },
        {
         "name": "ct_score",
         "rawType": "float64",
         "type": "float"
        },
        {
         "name": "t_score",
         "rawType": "float64",
         "type": "float"
        },
        {
         "name": "map",
         "rawType": "object",
         "type": "string"
        },
        {
         "name": "bomb_planted",
         "rawType": "bool",
         "type": "boolean"
        },
        {
         "name": "ct_health",
         "rawType": "float64",
         "type": "float"
        },
        {
         "name": "t_health",
         "rawType": "float64",
         "type": "float"
        },
        {
         "name": "ct_armor",
         "rawType": "float64",
         "type": "float"
        },
        {
         "name": "t_armor",
         "rawType": "float64",
         "type": "float"
        },
        {
         "name": "ct_money",
         "rawType": "float64",
         "type": "float"
        },
        {
         "name": "t_money",
         "rawType": "float64",
         "type": "float"
        },
        {
         "name": "ct_helmets",
         "rawType": "float64",
         "type": "float"
        },
        {
         "name": "t_helmets",
         "rawType": "float64",
         "type": "float"
        },
        {
         "name": "ct_defuse_kits",
         "rawType": "float64",
         "type": "float"
        },
        {
         "name": "ct_players_alive",
         "rawType": "float64",
         "type": "float"
        },
        {
         "name": "t_players_alive",
         "rawType": "float64",
         "type": "float"
        },
        {
         "name": "ct_weapon_ak47",
         "rawType": "float64",
         "type": "float"
        },
        {
         "name": "t_weapon_ak47",
         "rawType": "float64",
         "type": "float"
        },
        {
         "name": "ct_weapon_aug",
         "rawType": "float64",
         "type": "float"
        },
        {
         "name": "t_weapon_aug",
         "rawType": "float64",
         "type": "float"
        },
        {
         "name": "ct_weapon_awp",
         "rawType": "float64",
         "type": "float"
        },
        {
         "name": "t_weapon_awp",
         "rawType": "float64",
         "type": "float"
        },
        {
         "name": "ct_weapon_bizon",
         "rawType": "float64",
         "type": "float"
        },
        {
         "name": "t_weapon_bizon",
         "rawType": "float64",
         "type": "float"
        },
        {
         "name": "ct_weapon_cz75auto",
         "rawType": "float64",
         "type": "float"
        },
        {
         "name": "t_weapon_cz75auto",
         "rawType": "float64",
         "type": "float"
        },
        {
         "name": "ct_weapon_elite",
         "rawType": "float64",
         "type": "float"
        },
        {
         "name": "t_weapon_elite",
         "rawType": "float64",
         "type": "float"
        },
        {
         "name": "ct_weapon_famas",
         "rawType": "float64",
         "type": "float"
        },
        {
         "name": "t_weapon_famas",
         "rawType": "float64",
         "type": "float"
        },
        {
         "name": "ct_weapon_g3sg1",
         "rawType": "float64",
         "type": "float"
        },
        {
         "name": "t_weapon_g3sg1",
         "rawType": "float64",
         "type": "float"
        },
        {
         "name": "ct_weapon_galilar",
         "rawType": "float64",
         "type": "float"
        },
        {
         "name": "t_weapon_galilar",
         "rawType": "float64",
         "type": "float"
        },
        {
         "name": "ct_weapon_glock",
         "rawType": "float64",
         "type": "float"
        },
        {
         "name": "t_weapon_glock",
         "rawType": "float64",
         "type": "float"
        },
        {
         "name": "ct_weapon_m249",
         "rawType": "float64",
         "type": "float"
        },
        {
         "name": "t_weapon_m249",
         "rawType": "float64",
         "type": "float"
        },
        {
         "name": "ct_weapon_m4a1s",
         "rawType": "float64",
         "type": "float"
        },
        {
         "name": "t_weapon_m4a1s",
         "rawType": "float64",
         "type": "float"
        },
        {
         "name": "ct_weapon_m4a4",
         "rawType": "float64",
         "type": "float"
        },
        {
         "name": "t_weapon_m4a4",
         "rawType": "float64",
         "type": "float"
        },
        {
         "name": "ct_weapon_mac10",
         "rawType": "float64",
         "type": "float"
        },
        {
         "name": "t_weapon_mac10",
         "rawType": "float64",
         "type": "float"
        },
        {
         "name": "ct_weapon_mag7",
         "rawType": "float64",
         "type": "float"
        },
        {
         "name": "t_weapon_mag7",
         "rawType": "float64",
         "type": "float"
        },
        {
         "name": "ct_weapon_mp5sd",
         "rawType": "float64",
         "type": "float"
        },
        {
         "name": "t_weapon_mp5sd",
         "rawType": "float64",
         "type": "float"
        },
        {
         "name": "ct_weapon_mp7",
         "rawType": "float64",
         "type": "float"
        },
        {
         "name": "t_weapon_mp7",
         "rawType": "float64",
         "type": "float"
        },
        {
         "name": "ct_weapon_mp9",
         "rawType": "float64",
         "type": "float"
        },
        {
         "name": "t_weapon_mp9",
         "rawType": "float64",
         "type": "float"
        },
        {
         "name": "ct_weapon_negev",
         "rawType": "float64",
         "type": "float"
        },
        {
         "name": "t_weapon_negev",
         "rawType": "float64",
         "type": "float"
        },
        {
         "name": "ct_weapon_nova",
         "rawType": "float64",
         "type": "float"
        },
        {
         "name": "t_weapon_nova",
         "rawType": "float64",
         "type": "float"
        },
        {
         "name": "ct_weapon_p90",
         "rawType": "float64",
         "type": "float"
        },
        {
         "name": "t_weapon_p90",
         "rawType": "float64",
         "type": "float"
        },
        {
         "name": "ct_weapon_r8revolver",
         "rawType": "float64",
         "type": "float"
        },
        {
         "name": "t_weapon_r8revolver",
         "rawType": "float64",
         "type": "float"
        },
        {
         "name": "ct_weapon_sawedoff",
         "rawType": "float64",
         "type": "float"
        },
        {
         "name": "t_weapon_sawedoff",
         "rawType": "float64",
         "type": "float"
        },
        {
         "name": "ct_weapon_scar20",
         "rawType": "float64",
         "type": "float"
        },
        {
         "name": "t_weapon_scar20",
         "rawType": "float64",
         "type": "float"
        },
        {
         "name": "ct_weapon_sg553",
         "rawType": "float64",
         "type": "float"
        },
        {
         "name": "t_weapon_sg553",
         "rawType": "float64",
         "type": "float"
        },
        {
         "name": "ct_weapon_ssg08",
         "rawType": "float64",
         "type": "float"
        },
        {
         "name": "t_weapon_ssg08",
         "rawType": "float64",
         "type": "float"
        },
        {
         "name": "ct_weapon_ump45",
         "rawType": "float64",
         "type": "float"
        },
        {
         "name": "t_weapon_ump45",
         "rawType": "float64",
         "type": "float"
        },
        {
         "name": "ct_weapon_xm1014",
         "rawType": "float64",
         "type": "float"
        },
        {
         "name": "t_weapon_xm1014",
         "rawType": "float64",
         "type": "float"
        },
        {
         "name": "ct_weapon_deagle",
         "rawType": "float64",
         "type": "float"
        },
        {
         "name": "t_weapon_deagle",
         "rawType": "float64",
         "type": "float"
        },
        {
         "name": "ct_weapon_fiveseven",
         "rawType": "float64",
         "type": "float"
        },
        {
         "name": "t_weapon_fiveseven",
         "rawType": "float64",
         "type": "float"
        },
        {
         "name": "ct_weapon_usps",
         "rawType": "float64",
         "type": "float"
        },
        {
         "name": "t_weapon_usps",
         "rawType": "float64",
         "type": "float"
        },
        {
         "name": "ct_weapon_p250",
         "rawType": "float64",
         "type": "float"
        },
        {
         "name": "t_weapon_p250",
         "rawType": "float64",
         "type": "float"
        },
        {
         "name": "ct_weapon_p2000",
         "rawType": "float64",
         "type": "float"
        },
        {
         "name": "t_weapon_p2000",
         "rawType": "float64",
         "type": "float"
        },
        {
         "name": "ct_weapon_tec9",
         "rawType": "float64",
         "type": "float"
        },
        {
         "name": "t_weapon_tec9",
         "rawType": "float64",
         "type": "float"
        },
        {
         "name": "ct_grenade_hegrenade",
         "rawType": "float64",
         "type": "float"
        },
        {
         "name": "t_grenade_hegrenade",
         "rawType": "float64",
         "type": "float"
        },
        {
         "name": "ct_grenade_flashbang",
         "rawType": "float64",
         "type": "float"
        },
        {
         "name": "t_grenade_flashbang",
         "rawType": "float64",
         "type": "float"
        },
        {
         "name": "ct_grenade_smokegrenade",
         "rawType": "float64",
         "type": "float"
        },
        {
         "name": "t_grenade_smokegrenade",
         "rawType": "float64",
         "type": "float"
        },
        {
         "name": "ct_grenade_incendiarygrenade",
         "rawType": "float64",
         "type": "float"
        },
        {
         "name": "t_grenade_incendiarygrenade",
         "rawType": "float64",
         "type": "float"
        },
        {
         "name": "ct_grenade_molotovgrenade",
         "rawType": "float64",
         "type": "float"
        },
        {
         "name": "t_grenade_molotovgrenade",
         "rawType": "float64",
         "type": "float"
        },
        {
         "name": "ct_grenade_decoygrenade",
         "rawType": "float64",
         "type": "float"
        },
        {
         "name": "t_grenade_decoygrenade",
         "rawType": "float64",
         "type": "float"
        },
        {
         "name": "round_winner",
         "rawType": "object",
         "type": "string"
        }
       ],
       "conversionMethod": "pd.DataFrame",
       "ref": "366a93c8-e52a-4e0e-9fc4-3797d79bb385",
       "rows": [
        [
         "0",
         "175.0",
         "0.0",
         "0.0",
         "de_dust2",
         "False",
         "500.0",
         "500.0",
         "0.0",
         "0.0",
         "4000.0",
         "4000.0",
         "0.0",
         "0.0",
         "0.0",
         "5.0",
         "5.0",
         "0.0",
         "0.0",
         "0.0",
         "0.0",
         "0.0",
         "0.0",
         "0.0",
         "0.0",
         "0.0",
         "0.0",
         "0.0",
         "0.0",
         "0.0",
         "0.0",
         "0.0",
         "0.0",
         "0.0",
         "0.0",
         "0.0",
         "5.0",
         "0.0",
         "0.0",
         "0.0",
         "0.0",
         "0.0",
         "0.0",
         "0.0",
         "0.0",
         "0.0",
         "0.0",
         "0.0",
         "0.0",
         "0.0",
         "0.0",
         "0.0",
         "0.0",
         "0.0",
         "0.0",
         "0.0",
         "0.0",
         "0.0",
         "0.0",
         "0.0",
         "0.0",
         "0.0",
         "0.0",
         "0.0",
         "0.0",
         "0.0",
         "0.0",
         "0.0",
         "0.0",
         "0.0",
         "0.0",
         "0.0",
         "0.0",
         "0.0",
         "0.0",
         "0.0",
         "0.0",
         "4.0",
         "0.0",
         "0.0",
         "0.0",
         "1.0",
         "0.0",
         "0.0",
         "0.0",
         "0.0",
         "0.0",
         "0.0",
         "0.0",
         "0.0",
         "0.0",
         "0.0",
         "0.0",
         "0.0",
         "0.0",
         "0.0",
         "0.0",
         "CT"
        ],
        [
         "1",
         "156.03",
         "0.0",
         "0.0",
         "de_dust2",
         "False",
         "500.0",
         "500.0",
         "400.0",
         "300.0",
         "600.0",
         "650.0",
         "0.0",
         "0.0",
         "1.0",
         "5.0",
         "5.0",
         "0.0",
         "0.0",
         "0.0",
         "0.0",
         "0.0",
         "0.0",
         "0.0",
         "0.0",
         "0.0",
         "0.0",
         "0.0",
         "0.0",
         "0.0",
         "0.0",
         "0.0",
         "0.0",
         "0.0",
         "0.0",
         "0.0",
         "5.0",
         "0.0",
         "0.0",
         "0.0",
         "0.0",
         "0.0",
         "0.0",
         "0.0",
         "0.0",
         "0.0",
         "0.0",
         "0.0",
         "0.0",
         "0.0",
         "0.0",
         "0.0",
         "0.0",
         "0.0",
         "0.0",
         "0.0",
         "0.0",
         "0.0",
         "0.0",
         "0.0",
         "0.0",
         "0.0",
         "0.0",
         "0.0",
         "0.0",
         "0.0",
         "0.0",
         "0.0",
         "0.0",
         "0.0",
         "0.0",
         "0.0",
         "0.0",
         "0.0",
         "0.0",
         "0.0",
         "0.0",
         "4.0",
         "0.0",
         "0.0",
         "0.0",
         "1.0",
         "0.0",
         "0.0",
         "0.0",
         "0.0",
         "0.0",
         "0.0",
         "0.0",
         "0.0",
         "2.0",
         "0.0",
         "0.0",
         "0.0",
         "0.0",
         "0.0",
         "0.0",
         "CT"
        ],
        [
         "2",
         "96.03",
         "0.0",
         "0.0",
         "de_dust2",
         "False",
         "391.0",
         "400.0",
         "294.0",
         "200.0",
         "750.0",
         "500.0",
         "0.0",
         "0.0",
         "1.0",
         "4.0",
         "4.0",
         "0.0",
         "0.0",
         "0.0",
         "0.0",
         "0.0",
         "0.0",
         "0.0",
         "0.0",
         "0.0",
         "0.0",
         "0.0",
         "0.0",
         "0.0",
         "0.0",
         "0.0",
         "0.0",
         "0.0",
         "0.0",
         "0.0",
         "4.0",
         "0.0",
         "0.0",
         "0.0",
         "0.0",
         "0.0",
         "0.0",
         "0.0",
         "0.0",
         "0.0",
         "0.0",
         "0.0",
         "0.0",
         "0.0",
         "0.0",
         "0.0",
         "0.0",
         "0.0",
         "0.0",
         "0.0",
         "0.0",
         "0.0",
         "0.0",
         "0.0",
         "0.0",
         "0.0",
         "0.0",
         "0.0",
         "0.0",
         "0.0",
         "0.0",
         "0.0",
         "0.0",
         "0.0",
         "0.0",
         "0.0",
         "0.0",
         "0.0",
         "0.0",
         "0.0",
         "0.0",
         "4.0",
         "0.0",
         "0.0",
         "0.0",
         "0.0",
         "0.0",
         "0.0",
         "0.0",
         "0.0",
         "0.0",
         "0.0",
         "0.0",
         "0.0",
         "2.0",
         "0.0",
         "0.0",
         "0.0",
         "0.0",
         "0.0",
         "0.0",
         "CT"
        ],
        [
         "3",
         "76.03",
         "0.0",
         "0.0",
         "de_dust2",
         "False",
         "391.0",
         "400.0",
         "294.0",
         "200.0",
         "750.0",
         "500.0",
         "0.0",
         "0.0",
         "1.0",
         "4.0",
         "4.0",
         "0.0",
         "0.0",
         "0.0",
         "0.0",
         "0.0",
         "0.0",
         "0.0",
         "0.0",
         "0.0",
         "0.0",
         "0.0",
         "0.0",
         "0.0",
         "0.0",
         "0.0",
         "0.0",
         "0.0",
         "0.0",
         "0.0",
         "3.0",
         "0.0",
         "0.0",
         "0.0",
         "0.0",
         "0.0",
         "0.0",
         "0.0",
         "0.0",
         "0.0",
         "0.0",
         "0.0",
         "0.0",
         "0.0",
         "0.0",
         "0.0",
         "0.0",
         "0.0",
         "0.0",
         "0.0",
         "0.0",
         "0.0",
         "0.0",
         "0.0",
         "0.0",
         "0.0",
         "0.0",
         "0.0",
         "0.0",
         "0.0",
         "0.0",
         "0.0",
         "0.0",
         "0.0",
         "0.0",
         "0.0",
         "0.0",
         "0.0",
         "0.0",
         "0.0",
         "0.0",
         "4.0",
         "0.0",
         "0.0",
         "0.0",
         "0.0",
         "1.0",
         "0.0",
         "0.0",
         "0.0",
         "0.0",
         "0.0",
         "0.0",
         "0.0",
         "0.0",
         "0.0",
         "0.0",
         "0.0",
         "0.0",
         "0.0",
         "0.0",
         "CT"
        ],
        [
         "4",
         "174.97",
         "1.0",
         "0.0",
         "de_dust2",
         "False",
         "500.0",
         "500.0",
         "192.0",
         "0.0",
         "18350.0",
         "10750.0",
         "0.0",
         "0.0",
         "1.0",
         "5.0",
         "5.0",
         "0.0",
         "0.0",
         "0.0",
         "0.0",
         "0.0",
         "0.0",
         "0.0",
         "0.0",
         "0.0",
         "0.0",
         "0.0",
         "0.0",
         "0.0",
         "0.0",
         "0.0",
         "0.0",
         "0.0",
         "0.0",
         "0.0",
         "5.0",
         "0.0",
         "0.0",
         "0.0",
         "0.0",
         "0.0",
         "0.0",
         "0.0",
         "0.0",
         "0.0",
         "0.0",
         "0.0",
         "0.0",
         "0.0",
         "0.0",
         "0.0",
         "0.0",
         "0.0",
         "0.0",
         "0.0",
         "0.0",
         "0.0",
         "0.0",
         "0.0",
         "0.0",
         "0.0",
         "0.0",
         "0.0",
         "0.0",
         "0.0",
         "0.0",
         "0.0",
         "0.0",
         "0.0",
         "0.0",
         "0.0",
         "0.0",
         "0.0",
         "0.0",
         "0.0",
         "0.0",
         "4.0",
         "0.0",
         "0.0",
         "0.0",
         "1.0",
         "0.0",
         "0.0",
         "0.0",
         "0.0",
         "0.0",
         "0.0",
         "0.0",
         "0.0",
         "0.0",
         "0.0",
         "0.0",
         "0.0",
         "0.0",
         "0.0",
         "0.0",
         "CT"
        ]
       ],
       "shape": {
        "columns": 97,
        "rows": 5
       }
      },
      "text/html": [
       "<div>\n",
       "<style scoped>\n",
       "    .dataframe tbody tr th:only-of-type {\n",
       "        vertical-align: middle;\n",
       "    }\n",
       "\n",
       "    .dataframe tbody tr th {\n",
       "        vertical-align: top;\n",
       "    }\n",
       "\n",
       "    .dataframe thead th {\n",
       "        text-align: right;\n",
       "    }\n",
       "</style>\n",
       "<table border=\"1\" class=\"dataframe\">\n",
       "  <thead>\n",
       "    <tr style=\"text-align: right;\">\n",
       "      <th></th>\n",
       "      <th>time_left</th>\n",
       "      <th>ct_score</th>\n",
       "      <th>t_score</th>\n",
       "      <th>map</th>\n",
       "      <th>bomb_planted</th>\n",
       "      <th>ct_health</th>\n",
       "      <th>t_health</th>\n",
       "      <th>ct_armor</th>\n",
       "      <th>t_armor</th>\n",
       "      <th>ct_money</th>\n",
       "      <th>...</th>\n",
       "      <th>t_grenade_flashbang</th>\n",
       "      <th>ct_grenade_smokegrenade</th>\n",
       "      <th>t_grenade_smokegrenade</th>\n",
       "      <th>ct_grenade_incendiarygrenade</th>\n",
       "      <th>t_grenade_incendiarygrenade</th>\n",
       "      <th>ct_grenade_molotovgrenade</th>\n",
       "      <th>t_grenade_molotovgrenade</th>\n",
       "      <th>ct_grenade_decoygrenade</th>\n",
       "      <th>t_grenade_decoygrenade</th>\n",
       "      <th>round_winner</th>\n",
       "    </tr>\n",
       "  </thead>\n",
       "  <tbody>\n",
       "    <tr>\n",
       "      <th>0</th>\n",
       "      <td>175.00</td>\n",
       "      <td>0.0</td>\n",
       "      <td>0.0</td>\n",
       "      <td>de_dust2</td>\n",
       "      <td>False</td>\n",
       "      <td>500.0</td>\n",
       "      <td>500.0</td>\n",
       "      <td>0.0</td>\n",
       "      <td>0.0</td>\n",
       "      <td>4000.0</td>\n",
       "      <td>...</td>\n",
       "      <td>0.0</td>\n",
       "      <td>0.0</td>\n",
       "      <td>0.0</td>\n",
       "      <td>0.0</td>\n",
       "      <td>0.0</td>\n",
       "      <td>0.0</td>\n",
       "      <td>0.0</td>\n",
       "      <td>0.0</td>\n",
       "      <td>0.0</td>\n",
       "      <td>CT</td>\n",
       "    </tr>\n",
       "    <tr>\n",
       "      <th>1</th>\n",
       "      <td>156.03</td>\n",
       "      <td>0.0</td>\n",
       "      <td>0.0</td>\n",
       "      <td>de_dust2</td>\n",
       "      <td>False</td>\n",
       "      <td>500.0</td>\n",
       "      <td>500.0</td>\n",
       "      <td>400.0</td>\n",
       "      <td>300.0</td>\n",
       "      <td>600.0</td>\n",
       "      <td>...</td>\n",
       "      <td>0.0</td>\n",
       "      <td>0.0</td>\n",
       "      <td>2.0</td>\n",
       "      <td>0.0</td>\n",
       "      <td>0.0</td>\n",
       "      <td>0.0</td>\n",
       "      <td>0.0</td>\n",
       "      <td>0.0</td>\n",
       "      <td>0.0</td>\n",
       "      <td>CT</td>\n",
       "    </tr>\n",
       "    <tr>\n",
       "      <th>2</th>\n",
       "      <td>96.03</td>\n",
       "      <td>0.0</td>\n",
       "      <td>0.0</td>\n",
       "      <td>de_dust2</td>\n",
       "      <td>False</td>\n",
       "      <td>391.0</td>\n",
       "      <td>400.0</td>\n",
       "      <td>294.0</td>\n",
       "      <td>200.0</td>\n",
       "      <td>750.0</td>\n",
       "      <td>...</td>\n",
       "      <td>0.0</td>\n",
       "      <td>0.0</td>\n",
       "      <td>2.0</td>\n",
       "      <td>0.0</td>\n",
       "      <td>0.0</td>\n",
       "      <td>0.0</td>\n",
       "      <td>0.0</td>\n",
       "      <td>0.0</td>\n",
       "      <td>0.0</td>\n",
       "      <td>CT</td>\n",
       "    </tr>\n",
       "    <tr>\n",
       "      <th>3</th>\n",
       "      <td>76.03</td>\n",
       "      <td>0.0</td>\n",
       "      <td>0.0</td>\n",
       "      <td>de_dust2</td>\n",
       "      <td>False</td>\n",
       "      <td>391.0</td>\n",
       "      <td>400.0</td>\n",
       "      <td>294.0</td>\n",
       "      <td>200.0</td>\n",
       "      <td>750.0</td>\n",
       "      <td>...</td>\n",
       "      <td>0.0</td>\n",
       "      <td>0.0</td>\n",
       "      <td>0.0</td>\n",
       "      <td>0.0</td>\n",
       "      <td>0.0</td>\n",
       "      <td>0.0</td>\n",
       "      <td>0.0</td>\n",
       "      <td>0.0</td>\n",
       "      <td>0.0</td>\n",
       "      <td>CT</td>\n",
       "    </tr>\n",
       "    <tr>\n",
       "      <th>4</th>\n",
       "      <td>174.97</td>\n",
       "      <td>1.0</td>\n",
       "      <td>0.0</td>\n",
       "      <td>de_dust2</td>\n",
       "      <td>False</td>\n",
       "      <td>500.0</td>\n",
       "      <td>500.0</td>\n",
       "      <td>192.0</td>\n",
       "      <td>0.0</td>\n",
       "      <td>18350.0</td>\n",
       "      <td>...</td>\n",
       "      <td>0.0</td>\n",
       "      <td>0.0</td>\n",
       "      <td>0.0</td>\n",
       "      <td>0.0</td>\n",
       "      <td>0.0</td>\n",
       "      <td>0.0</td>\n",
       "      <td>0.0</td>\n",
       "      <td>0.0</td>\n",
       "      <td>0.0</td>\n",
       "      <td>CT</td>\n",
       "    </tr>\n",
       "  </tbody>\n",
       "</table>\n",
       "<p>5 rows × 97 columns</p>\n",
       "</div>"
      ],
      "text/plain": [
       "   time_left  ct_score  t_score       map  bomb_planted  ct_health  t_health  \\\n",
       "0     175.00       0.0      0.0  de_dust2         False      500.0     500.0   \n",
       "1     156.03       0.0      0.0  de_dust2         False      500.0     500.0   \n",
       "2      96.03       0.0      0.0  de_dust2         False      391.0     400.0   \n",
       "3      76.03       0.0      0.0  de_dust2         False      391.0     400.0   \n",
       "4     174.97       1.0      0.0  de_dust2         False      500.0     500.0   \n",
       "\n",
       "   ct_armor  t_armor  ct_money  ...  t_grenade_flashbang  \\\n",
       "0       0.0      0.0    4000.0  ...                  0.0   \n",
       "1     400.0    300.0     600.0  ...                  0.0   \n",
       "2     294.0    200.0     750.0  ...                  0.0   \n",
       "3     294.0    200.0     750.0  ...                  0.0   \n",
       "4     192.0      0.0   18350.0  ...                  0.0   \n",
       "\n",
       "   ct_grenade_smokegrenade  t_grenade_smokegrenade  \\\n",
       "0                      0.0                     0.0   \n",
       "1                      0.0                     2.0   \n",
       "2                      0.0                     2.0   \n",
       "3                      0.0                     0.0   \n",
       "4                      0.0                     0.0   \n",
       "\n",
       "   ct_grenade_incendiarygrenade  t_grenade_incendiarygrenade  \\\n",
       "0                           0.0                          0.0   \n",
       "1                           0.0                          0.0   \n",
       "2                           0.0                          0.0   \n",
       "3                           0.0                          0.0   \n",
       "4                           0.0                          0.0   \n",
       "\n",
       "   ct_grenade_molotovgrenade  t_grenade_molotovgrenade  \\\n",
       "0                        0.0                       0.0   \n",
       "1                        0.0                       0.0   \n",
       "2                        0.0                       0.0   \n",
       "3                        0.0                       0.0   \n",
       "4                        0.0                       0.0   \n",
       "\n",
       "   ct_grenade_decoygrenade  t_grenade_decoygrenade  round_winner  \n",
       "0                      0.0                     0.0            CT  \n",
       "1                      0.0                     0.0            CT  \n",
       "2                      0.0                     0.0            CT  \n",
       "3                      0.0                     0.0            CT  \n",
       "4                      0.0                     0.0            CT  \n",
       "\n",
       "[5 rows x 97 columns]"
      ]
     },
     "execution_count": 3,
     "metadata": {},
     "output_type": "execute_result"
    }
   ],
   "source": [
    "df = pd.read_csv('csgo_round_snapshots.csv')\n",
    "df.head()"
   ]
  },
  {
   "cell_type": "markdown",
   "metadata": {},
   "source": [
    "Check for null values within the data (It may seem natural to drop these blank values, however these null values are important.)"
   ]
  },
  {
   "cell_type": "code",
   "execution_count": 4,
   "metadata": {},
   "outputs": [
    {
     "data": {
      "text/plain": [
       "time_left                    0\n",
       "ct_score                     0\n",
       "t_score                      0\n",
       "map                          0\n",
       "bomb_planted                 0\n",
       "                            ..\n",
       "ct_grenade_molotovgrenade    0\n",
       "t_grenade_molotovgrenade     0\n",
       "ct_grenade_decoygrenade      0\n",
       "t_grenade_decoygrenade       0\n",
       "round_winner                 0\n",
       "Length: 97, dtype: int64"
      ]
     },
     "execution_count": 4,
     "metadata": {},
     "output_type": "execute_result"
    }
   ],
   "source": [
    "df.isnull().sum()"
   ]
  },
  {
   "cell_type": "markdown",
   "metadata": {},
   "source": [
    "Just for fun, we can check out graphs to further visualise our dataset, here are the roundwinners by map:"
   ]
  },
  {
   "cell_type": "code",
   "execution_count": 5,
   "metadata": {},
   "outputs": [
    {
     "data": {
      "image/png": "[encoded data removed]",
      "text/plain": [
       "<Figure size 1000x800 with 1 Axes>"
      ]
     },
     "metadata": {},
     "output_type": "display_data"
    }
   ],
   "source": [
    "plt.figure(figsize=(10,8))\n",
    "sns.countplot(x=\"map\", hue=\"round_winner\", data=df)\n",
    "plt.show()"
   ]
  },
  {
   "cell_type": "markdown",
   "metadata": {},
   "source": [
    "From the data above, we can extrapolate which maps are most popular, the general skewing of T winners on some maps, and CT winners on others."
   ]
  },
  {
   "cell_type": "markdown",
   "metadata": {},
   "source": [
    "We can also visualise the effect of the Terrorist weapon count. \n",
    "\n",
    "Here we are checking the effect of the number of AK47s."
   ]
  },
  {
   "cell_type": "code",
   "execution_count": 6,
   "metadata": {},
   "outputs": [
    {
     "data": {
      "image/png": "[encoded data removed]",
      "text/plain": [
       "<Figure size 1000x800 with 1 Axes>"
      ]
     },
     "metadata": {},
     "output_type": "display_data"
    }
   ],
   "source": [
    "plt.figure(figsize=(10,8))\n",
    "sns.countplot(x=\"t_weapon_ak47\", hue=\"round_winner\", data=df)\n",
    "plt.show()"
   ]
  },
  {
   "cell_type": "markdown",
   "metadata": {},
   "source": [
    "Let's now identifying any columns with only ONE value, and dropping them"
   ]
  },
  {
   "cell_type": "code",
   "execution_count": 7,
   "metadata": {},
   "outputs": [],
   "source": [
    "col = df.columns\n",
    "unique_counts = df.nunique()\n",
    "drop_cols = unique_counts[unique_counts == 1].index.tolist()\n",
    "df.drop(columns=drop_cols, inplace=True)"
   ]
  },
  {
   "cell_type": "code",
   "execution_count": 8,
   "metadata": {},
   "outputs": [
    {
     "data": {
      "application/vnd.microsoft.datawrangler.viewer.v0+json": {
       "columns": [
        {
         "name": "index",
         "rawType": "int64",
         "type": "integer"
        },
        {
         "name": "time_left",
         "rawType": "float64",
         "type": "float"
        },
        {
         "name": "ct_score",
         "rawType": "float64",
         "type": "float"
        },
        {
         "name": "t_score",
         "rawType": "float64",
         "type": "float"
        },
        {
         "name": "map",
         "rawType": "object",
         "type": "string"
        },
        {
         "name": "bomb_planted",
         "rawType": "bool",
         "type": "boolean"
        },
        {
         "name": "ct_health",
         "rawType": "float64",
         "type": "float"
        },
        {
         "name": "t_health",
         "rawType": "float64",
         "type": "float"
        },
        {
         "name": "ct_armor",
         "rawType": "float64",
         "type": "float"
        },
        {
         "name": "t_armor",
         "rawType": "float64",
         "type": "float"
        },
        {
         "name": "ct_money",
         "rawType": "float64",
         "type": "float"
        },
        {
         "name": "t_money",
         "rawType": "float64",
         "type": "float"
        },
        {
         "name": "ct_helmets",
         "rawType": "float64",
         "type": "float"
        },
        {
         "name": "t_helmets",
         "rawType": "float64",
         "type": "float"
        },
        {
         "name": "ct_defuse_kits",
         "rawType": "float64",
         "type": "float"
        },
        {
         "name": "ct_players_alive",
         "rawType": "float64",
         "type": "float"
        },
        {
         "name": "t_players_alive",
         "rawType": "float64",
         "type": "float"
        },
        {
         "name": "ct_weapon_ak47",
         "rawType": "float64",
         "type": "float"
        },
        {
         "name": "t_weapon_ak47",
         "rawType": "float64",
         "type": "float"
        },
        {
         "name": "ct_weapon_aug",
         "rawType": "float64",
         "type": "float"
        },
        {
         "name": "t_weapon_aug",
         "rawType": "float64",
         "type": "float"
        },
        {
         "name": "ct_weapon_awp",
         "rawType": "float64",
         "type": "float"
        },
        {
         "name": "t_weapon_awp",
         "rawType": "float64",
         "type": "float"
        },
        {
         "name": "t_weapon_bizon",
         "rawType": "float64",
         "type": "float"
        },
        {
         "name": "ct_weapon_cz75auto",
         "rawType": "float64",
         "type": "float"
        },
        {
         "name": "t_weapon_cz75auto",
         "rawType": "float64",
         "type": "float"
        },
        {
         "name": "ct_weapon_elite",
         "rawType": "float64",
         "type": "float"
        },
        {
         "name": "t_weapon_elite",
         "rawType": "float64",
         "type": "float"
        },
        {
         "name": "ct_weapon_famas",
         "rawType": "float64",
         "type": "float"
        },
        {
         "name": "t_weapon_famas",
         "rawType": "float64",
         "type": "float"
        },
        {
         "name": "t_weapon_g3sg1",
         "rawType": "float64",
         "type": "float"
        },
        {
         "name": "ct_weapon_galilar",
         "rawType": "float64",
         "type": "float"
        },
        {
         "name": "t_weapon_galilar",
         "rawType": "float64",
         "type": "float"
        },
        {
         "name": "ct_weapon_glock",
         "rawType": "float64",
         "type": "float"
        },
        {
         "name": "t_weapon_glock",
         "rawType": "float64",
         "type": "float"
        },
        {
         "name": "ct_weapon_m249",
         "rawType": "float64",
         "type": "float"
        },
        {
         "name": "ct_weapon_m4a1s",
         "rawType": "float64",
         "type": "float"
        },
        {
         "name": "t_weapon_m4a1s",
         "rawType": "float64",
         "type": "float"
        },
        {
         "name": "ct_weapon_m4a4",
         "rawType": "float64",
         "type": "float"
        },
        {
         "name": "t_weapon_m4a4",
         "rawType": "float64",
         "type": "float"
        },
        {
         "name": "ct_weapon_mac10",
         "rawType": "float64",
         "type": "float"
        },
        {
         "name": "t_weapon_mac10",
         "rawType": "float64",
         "type": "float"
        },
        {
         "name": "ct_weapon_mag7",
         "rawType": "float64",
         "type": "float"
        },
        {
         "name": "t_weapon_mag7",
         "rawType": "float64",
         "type": "float"
        },
        {
         "name": "ct_weapon_mp5sd",
         "rawType": "float64",
         "type": "float"
        },
        {
         "name": "t_weapon_mp5sd",
         "rawType": "float64",
         "type": "float"
        },
        {
         "name": "ct_weapon_mp7",
         "rawType": "float64",
         "type": "float"
        },
        {
         "name": "t_weapon_mp7",
         "rawType": "float64",
         "type": "float"
        },
        {
         "name": "ct_weapon_mp9",
         "rawType": "float64",
         "type": "float"
        },
        {
         "name": "t_weapon_mp9",
         "rawType": "float64",
         "type": "float"
        },
        {
         "name": "t_weapon_negev",
         "rawType": "float64",
         "type": "float"
        },
        {
         "name": "ct_weapon_nova",
         "rawType": "float64",
         "type": "float"
        },
        {
         "name": "t_weapon_nova",
         "rawType": "float64",
         "type": "float"
        },
        {
         "name": "ct_weapon_p90",
         "rawType": "float64",
         "type": "float"
        },
        {
         "name": "t_weapon_p90",
         "rawType": "float64",
         "type": "float"
        },
        {
         "name": "t_weapon_r8revolver",
         "rawType": "float64",
         "type": "float"
        },
        {
         "name": "t_weapon_sawedoff",
         "rawType": "float64",
         "type": "float"
        },
        {
         "name": "ct_weapon_scar20",
         "rawType": "float64",
         "type": "float"
        },
        {
         "name": "t_weapon_scar20",
         "rawType": "float64",
         "type": "float"
        },
        {
         "name": "ct_weapon_sg553",
         "rawType": "float64",
         "type": "float"
        },
        {
         "name": "t_weapon_sg553",
         "rawType": "float64",
         "type": "float"
        },
        {
         "name": "ct_weapon_ssg08",
         "rawType": "float64",
         "type": "float"
        },
        {
         "name": "t_weapon_ssg08",
         "rawType": "float64",
         "type": "float"
        },
        {
         "name": "ct_weapon_ump45",
         "rawType": "float64",
         "type": "float"
        },
        {
         "name": "t_weapon_ump45",
         "rawType": "float64",
         "type": "float"
        },
        {
         "name": "ct_weapon_xm1014",
         "rawType": "float64",
         "type": "float"
        },
        {
         "name": "t_weapon_xm1014",
         "rawType": "float64",
         "type": "float"
        },
        {
         "name": "ct_weapon_deagle",
         "rawType": "float64",
         "type": "float"
        },
        {
         "name": "t_weapon_deagle",
         "rawType": "float64",
         "type": "float"
        },
        {
         "name": "ct_weapon_fiveseven",
         "rawType": "float64",
         "type": "float"
        },
        {
         "name": "t_weapon_fiveseven",
         "rawType": "float64",
         "type": "float"
        },
        {
         "name": "ct_weapon_usps",
         "rawType": "float64",
         "type": "float"
        },
        {
         "name": "t_weapon_usps",
         "rawType": "float64",
         "type": "float"
        },
        {
         "name": "ct_weapon_p250",
         "rawType": "float64",
         "type": "float"
        },
        {
         "name": "t_weapon_p250",
         "rawType": "float64",
         "type": "float"
        },
        {
         "name": "ct_weapon_p2000",
         "rawType": "float64",
         "type": "float"
        },
        {
         "name": "t_weapon_p2000",
         "rawType": "float64",
         "type": "float"
        },
        {
         "name": "ct_weapon_tec9",
         "rawType": "float64",
         "type": "float"
        },
        {
         "name": "t_weapon_tec9",
         "rawType": "float64",
         "type": "float"
        },
        {
         "name": "ct_grenade_hegrenade",
         "rawType": "float64",
         "type": "float"
        },
        {
         "name": "t_grenade_hegrenade",
         "rawType": "float64",
         "type": "float"
        },
        {
         "name": "ct_grenade_flashbang",
         "rawType": "float64",
         "type": "float"
        },
        {
         "name": "t_grenade_flashbang",
         "rawType": "float64",
         "type": "float"
        },
        {
         "name": "ct_grenade_smokegrenade",
         "rawType": "float64",
         "type": "float"
        },
        {
         "name": "t_grenade_smokegrenade",
         "rawType": "float64",
         "type": "float"
        },
        {
         "name": "ct_grenade_incendiarygrenade",
         "rawType": "float64",
         "type": "float"
        },
        {
         "name": "t_grenade_incendiarygrenade",
         "rawType": "float64",
         "type": "float"
        },
        {
         "name": "ct_grenade_molotovgrenade",
         "rawType": "float64",
         "type": "float"
        },
        {
         "name": "t_grenade_molotovgrenade",
         "rawType": "float64",
         "type": "float"
        },
        {
         "name": "ct_grenade_decoygrenade",
         "rawType": "float64",
         "type": "float"
        },
        {
         "name": "t_grenade_decoygrenade",
         "rawType": "float64",
         "type": "float"
        },
        {
         "name": "round_winner",
         "rawType": "object",
         "type": "string"
        }
       ],
       "conversionMethod": "pd.DataFrame",
       "ref": "ba9779a3-bd38-4fa3-807f-3c4b2b1091b3",
       "rows": [
        [
         "0",
         "175.0",
         "0.0",
         "0.0",
         "de_dust2",
         "False",
         "500.0",
         "500.0",
         "0.0",
         "0.0",
         "4000.0",
         "4000.0",
         "0.0",
         "0.0",
         "0.0",
         "5.0",
         "5.0",
         "0.0",
         "0.0",
         "0.0",
         "0.0",
         "0.0",
         "0.0",
         "0.0",
         "0.0",
         "0.0",
         "0.0",
         "0.0",
         "0.0",
         "0.0",
         "0.0",
         "0.0",
         "0.0",
         "0.0",
         "5.0",
         "0.0",
         "0.0",
         "0.0",
         "0.0",
         "0.0",
         "0.0",
         "0.0",
         "0.0",
         "0.0",
         "0.0",
         "0.0",
         "0.0",
         "0.0",
         "0.0",
         "0.0",
         "0.0",
         "0.0",
         "0.0",
         "0.0",
         "0.0",
         "0.0",
         "0.0",
         "0.0",
         "0.0",
         "0.0",
         "0.0",
         "0.0",
         "0.0",
         "0.0",
         "0.0",
         "0.0",
         "0.0",
         "0.0",
         "0.0",
         "0.0",
         "0.0",
         "4.0",
         "0.0",
         "0.0",
         "0.0",
         "1.0",
         "0.0",
         "0.0",
         "0.0",
         "0.0",
         "0.0",
         "0.0",
         "0.0",
         "0.0",
         "0.0",
         "0.0",
         "0.0",
         "0.0",
         "0.0",
         "0.0",
         "0.0",
         "CT"
        ],
        [
         "1",
         "156.03",
         "0.0",
         "0.0",
         "de_dust2",
         "False",
         "500.0",
         "500.0",
         "400.0",
         "300.0",
         "600.0",
         "650.0",
         "0.0",
         "0.0",
         "1.0",
         "5.0",
         "5.0",
         "0.0",
         "0.0",
         "0.0",
         "0.0",
         "0.0",
         "0.0",
         "0.0",
         "0.0",
         "0.0",
         "0.0",
         "0.0",
         "0.0",
         "0.0",
         "0.0",
         "0.0",
         "0.0",
         "0.0",
         "5.0",
         "0.0",
         "0.0",
         "0.0",
         "0.0",
         "0.0",
         "0.0",
         "0.0",
         "0.0",
         "0.0",
         "0.0",
         "0.0",
         "0.0",
         "0.0",
         "0.0",
         "0.0",
         "0.0",
         "0.0",
         "0.0",
         "0.0",
         "0.0",
         "0.0",
         "0.0",
         "0.0",
         "0.0",
         "0.0",
         "0.0",
         "0.0",
         "0.0",
         "0.0",
         "0.0",
         "0.0",
         "0.0",
         "0.0",
         "0.0",
         "0.0",
         "0.0",
         "4.0",
         "0.0",
         "0.0",
         "0.0",
         "1.0",
         "0.0",
         "0.0",
         "0.0",
         "0.0",
         "0.0",
         "0.0",
         "0.0",
         "0.0",
         "2.0",
         "0.0",
         "0.0",
         "0.0",
         "0.0",
         "0.0",
         "0.0",
         "CT"
        ],
        [
         "2",
         "96.03",
         "0.0",
         "0.0",
         "de_dust2",
         "False",
         "391.0",
         "400.0",
         "294.0",
         "200.0",
         "750.0",
         "500.0",
         "0.0",
         "0.0",
         "1.0",
         "4.0",
         "4.0",
         "0.0",
         "0.0",
         "0.0",
         "0.0",
         "0.0",
         "0.0",
         "0.0",
         "0.0",
         "0.0",
         "0.0",
         "0.0",
         "0.0",
         "0.0",
         "0.0",
         "0.0",
         "0.0",
         "0.0",
         "4.0",
         "0.0",
         "0.0",
         "0.0",
         "0.0",
         "0.0",
         "0.0",
         "0.0",
         "0.0",
         "0.0",
         "0.0",
         "0.0",
         "0.0",
         "0.0",
         "0.0",
         "0.0",
         "0.0",
         "0.0",
         "0.0",
         "0.0",
         "0.0",
         "0.0",
         "0.0",
         "0.0",
         "0.0",
         "0.0",
         "0.0",
         "0.0",
         "0.0",
         "0.0",
         "0.0",
         "0.0",
         "0.0",
         "0.0",
         "0.0",
         "0.0",
         "0.0",
         "4.0",
         "0.0",
         "0.0",
         "0.0",
         "0.0",
         "0.0",
         "0.0",
         "0.0",
         "0.0",
         "0.0",
         "0.0",
         "0.0",
         "0.0",
         "2.0",
         "0.0",
         "0.0",
         "0.0",
         "0.0",
         "0.0",
         "0.0",
         "CT"
        ],
        [
         "3",
         "76.03",
         "0.0",
         "0.0",
         "de_dust2",
         "False",
         "391.0",
         "400.0",
         "294.0",
         "200.0",
         "750.0",
         "500.0",
         "0.0",
         "0.0",
         "1.0",
         "4.0",
         "4.0",
         "0.0",
         "0.0",
         "0.0",
         "0.0",
         "0.0",
         "0.0",
         "0.0",
         "0.0",
         "0.0",
         "0.0",
         "0.0",
         "0.0",
         "0.0",
         "0.0",
         "0.0",
         "0.0",
         "0.0",
         "3.0",
         "0.0",
         "0.0",
         "0.0",
         "0.0",
         "0.0",
         "0.0",
         "0.0",
         "0.0",
         "0.0",
         "0.0",
         "0.0",
         "0.0",
         "0.0",
         "0.0",
         "0.0",
         "0.0",
         "0.0",
         "0.0",
         "0.0",
         "0.0",
         "0.0",
         "0.0",
         "0.0",
         "0.0",
         "0.0",
         "0.0",
         "0.0",
         "0.0",
         "0.0",
         "0.0",
         "0.0",
         "0.0",
         "0.0",
         "0.0",
         "0.0",
         "0.0",
         "4.0",
         "0.0",
         "0.0",
         "0.0",
         "0.0",
         "1.0",
         "0.0",
         "0.0",
         "0.0",
         "0.0",
         "0.0",
         "0.0",
         "0.0",
         "0.0",
         "0.0",
         "0.0",
         "0.0",
         "0.0",
         "0.0",
         "0.0",
         "CT"
        ],
        [
         "4",
         "174.97",
         "1.0",
         "0.0",
         "de_dust2",
         "False",
         "500.0",
         "500.0",
         "192.0",
         "0.0",
         "18350.0",
         "10750.0",
         "0.0",
         "0.0",
         "1.0",
         "5.0",
         "5.0",
         "0.0",
         "0.0",
         "0.0",
         "0.0",
         "0.0",
         "0.0",
         "0.0",
         "0.0",
         "0.0",
         "0.0",
         "0.0",
         "0.0",
         "0.0",
         "0.0",
         "0.0",
         "0.0",
         "0.0",
         "5.0",
         "0.0",
         "0.0",
         "0.0",
         "0.0",
         "0.0",
         "0.0",
         "0.0",
         "0.0",
         "0.0",
         "0.0",
         "0.0",
         "0.0",
         "0.0",
         "0.0",
         "0.0",
         "0.0",
         "0.0",
         "0.0",
         "0.0",
         "0.0",
         "0.0",
         "0.0",
         "0.0",
         "0.0",
         "0.0",
         "0.0",
         "0.0",
         "0.0",
         "0.0",
         "0.0",
         "0.0",
         "0.0",
         "0.0",
         "0.0",
         "0.0",
         "0.0",
         "4.0",
         "0.0",
         "0.0",
         "0.0",
         "1.0",
         "0.0",
         "0.0",
         "0.0",
         "0.0",
         "0.0",
         "0.0",
         "0.0",
         "0.0",
         "0.0",
         "0.0",
         "0.0",
         "0.0",
         "0.0",
         "0.0",
         "0.0",
         "CT"
        ]
       ],
       "shape": {
        "columns": 91,
        "rows": 5
       }
      },
      "text/html": [
       "<div>\n",
       "<style scoped>\n",
       "    .dataframe tbody tr th:only-of-type {\n",
       "        vertical-align: middle;\n",
       "    }\n",
       "\n",
       "    .dataframe tbody tr th {\n",
       "        vertical-align: top;\n",
       "    }\n",
       "\n",
       "    .dataframe thead th {\n",
       "        text-align: right;\n",
       "    }\n",
       "</style>\n",
       "<table border=\"1\" class=\"dataframe\">\n",
       "  <thead>\n",
       "    <tr style=\"text-align: right;\">\n",
       "      <th></th>\n",
       "      <th>time_left</th>\n",
       "      <th>ct_score</th>\n",
       "      <th>t_score</th>\n",
       "      <th>map</th>\n",
       "      <th>bomb_planted</th>\n",
       "      <th>ct_health</th>\n",
       "      <th>t_health</th>\n",
       "      <th>ct_armor</th>\n",
       "      <th>t_armor</th>\n",
       "      <th>ct_money</th>\n",
       "      <th>...</th>\n",
       "      <th>t_grenade_flashbang</th>\n",
       "      <th>ct_grenade_smokegrenade</th>\n",
       "      <th>t_grenade_smokegrenade</th>\n",
       "      <th>ct_grenade_incendiarygrenade</th>\n",
       "      <th>t_grenade_incendiarygrenade</th>\n",
       "      <th>ct_grenade_molotovgrenade</th>\n",
       "      <th>t_grenade_molotovgrenade</th>\n",
       "      <th>ct_grenade_decoygrenade</th>\n",
       "      <th>t_grenade_decoygrenade</th>\n",
       "      <th>round_winner</th>\n",
       "    </tr>\n",
       "  </thead>\n",
       "  <tbody>\n",
       "    <tr>\n",
       "      <th>0</th>\n",
       "      <td>175.00</td>\n",
       "      <td>0.0</td>\n",
       "      <td>0.0</td>\n",
       "      <td>de_dust2</td>\n",
       "      <td>False</td>\n",
       "      <td>500.0</td>\n",
       "      <td>500.0</td>\n",
       "      <td>0.0</td>\n",
       "      <td>0.0</td>\n",
       "      <td>4000.0</td>\n",
       "      <td>...</td>\n",
       "      <td>0.0</td>\n",
       "      <td>0.0</td>\n",
       "      <td>0.0</td>\n",
       "      <td>0.0</td>\n",
       "      <td>0.0</td>\n",
       "      <td>0.0</td>\n",
       "      <td>0.0</td>\n",
       "      <td>0.0</td>\n",
       "      <td>0.0</td>\n",
       "      <td>CT</td>\n",
       "    </tr>\n",
       "    <tr>\n",
       "      <th>1</th>\n",
       "      <td>156.03</td>\n",
       "      <td>0.0</td>\n",
       "      <td>0.0</td>\n",
       "      <td>de_dust2</td>\n",
       "      <td>False</td>\n",
       "      <td>500.0</td>\n",
       "      <td>500.0</td>\n",
       "      <td>400.0</td>\n",
       "      <td>300.0</td>\n",
       "      <td>600.0</td>\n",
       "      <td>...</td>\n",
       "      <td>0.0</td>\n",
       "      <td>0.0</td>\n",
       "      <td>2.0</td>\n",
       "      <td>0.0</td>\n",
       "      <td>0.0</td>\n",
       "      <td>0.0</td>\n",
       "      <td>0.0</td>\n",
       "      <td>0.0</td>\n",
       "      <td>0.0</td>\n",
       "      <td>CT</td>\n",
       "    </tr>\n",
       "    <tr>\n",
       "      <th>2</th>\n",
       "      <td>96.03</td>\n",
       "      <td>0.0</td>\n",
       "      <td>0.0</td>\n",
       "      <td>de_dust2</td>\n",
       "      <td>False</td>\n",
       "      <td>391.0</td>\n",
       "      <td>400.0</td>\n",
       "      <td>294.0</td>\n",
       "      <td>200.0</td>\n",
       "      <td>750.0</td>\n",
       "      <td>...</td>\n",
       "      <td>0.0</td>\n",
       "      <td>0.0</td>\n",
       "      <td>2.0</td>\n",
       "      <td>0.0</td>\n",
       "      <td>0.0</td>\n",
       "      <td>0.0</td>\n",
       "      <td>0.0</td>\n",
       "      <td>0.0</td>\n",
       "      <td>0.0</td>\n",
       "      <td>CT</td>\n",
       "    </tr>\n",
       "    <tr>\n",
       "      <th>3</th>\n",
       "      <td>76.03</td>\n",
       "      <td>0.0</td>\n",
       "      <td>0.0</td>\n",
       "      <td>de_dust2</td>\n",
       "      <td>False</td>\n",
       "      <td>391.0</td>\n",
       "      <td>400.0</td>\n",
       "      <td>294.0</td>\n",
       "      <td>200.0</td>\n",
       "      <td>750.0</td>\n",
       "      <td>...</td>\n",
       "      <td>0.0</td>\n",
       "      <td>0.0</td>\n",
       "      <td>0.0</td>\n",
       "      <td>0.0</td>\n",
       "      <td>0.0</td>\n",
       "      <td>0.0</td>\n",
       "      <td>0.0</td>\n",
       "      <td>0.0</td>\n",
       "      <td>0.0</td>\n",
       "      <td>CT</td>\n",
       "    </tr>\n",
       "    <tr>\n",
       "      <th>4</th>\n",
       "      <td>174.97</td>\n",
       "      <td>1.0</td>\n",
       "      <td>0.0</td>\n",
       "      <td>de_dust2</td>\n",
       "      <td>False</td>\n",
       "      <td>500.0</td>\n",
       "      <td>500.0</td>\n",
       "      <td>192.0</td>\n",
       "      <td>0.0</td>\n",
       "      <td>18350.0</td>\n",
       "      <td>...</td>\n",
       "      <td>0.0</td>\n",
       "      <td>0.0</td>\n",
       "      <td>0.0</td>\n",
       "      <td>0.0</td>\n",
       "      <td>0.0</td>\n",
       "      <td>0.0</td>\n",
       "      <td>0.0</td>\n",
       "      <td>0.0</td>\n",
       "      <td>0.0</td>\n",
       "      <td>CT</td>\n",
       "    </tr>\n",
       "  </tbody>\n",
       "</table>\n",
       "<p>5 rows × 91 columns</p>\n",
       "</div>"
      ],
      "text/plain": [
       "   time_left  ct_score  t_score       map  bomb_planted  ct_health  t_health  \\\n",
       "0     175.00       0.0      0.0  de_dust2         False      500.0     500.0   \n",
       "1     156.03       0.0      0.0  de_dust2         False      500.0     500.0   \n",
       "2      96.03       0.0      0.0  de_dust2         False      391.0     400.0   \n",
       "3      76.03       0.0      0.0  de_dust2         False      391.0     400.0   \n",
       "4     174.97       1.0      0.0  de_dust2         False      500.0     500.0   \n",
       "\n",
       "   ct_armor  t_armor  ct_money  ...  t_grenade_flashbang  \\\n",
       "0       0.0      0.0    4000.0  ...                  0.0   \n",
       "1     400.0    300.0     600.0  ...                  0.0   \n",
       "2     294.0    200.0     750.0  ...                  0.0   \n",
       "3     294.0    200.0     750.0  ...                  0.0   \n",
       "4     192.0      0.0   18350.0  ...                  0.0   \n",
       "\n",
       "   ct_grenade_smokegrenade  t_grenade_smokegrenade  \\\n",
       "0                      0.0                     0.0   \n",
       "1                      0.0                     2.0   \n",
       "2                      0.0                     2.0   \n",
       "3                      0.0                     0.0   \n",
       "4                      0.0                     0.0   \n",
       "\n",
       "   ct_grenade_incendiarygrenade  t_grenade_incendiarygrenade  \\\n",
       "0                           0.0                          0.0   \n",
       "1                           0.0                          0.0   \n",
       "2                           0.0                          0.0   \n",
       "3                           0.0                          0.0   \n",
       "4                           0.0                          0.0   \n",
       "\n",
       "   ct_grenade_molotovgrenade  t_grenade_molotovgrenade  \\\n",
       "0                        0.0                       0.0   \n",
       "1                        0.0                       0.0   \n",
       "2                        0.0                       0.0   \n",
       "3                        0.0                       0.0   \n",
       "4                        0.0                       0.0   \n",
       "\n",
       "   ct_grenade_decoygrenade  t_grenade_decoygrenade  round_winner  \n",
       "0                      0.0                     0.0            CT  \n",
       "1                      0.0                     0.0            CT  \n",
       "2                      0.0                     0.0            CT  \n",
       "3                      0.0                     0.0            CT  \n",
       "4                      0.0                     0.0            CT  \n",
       "\n",
       "[5 rows x 91 columns]"
      ]
     },
     "execution_count": 8,
     "metadata": {},
     "output_type": "execute_result"
    }
   ],
   "source": [
    "df.head()"
   ]
  },
  {
   "cell_type": "markdown",
   "metadata": {},
   "source": [
    "Now our next step is to standardise our data. "
   ]
  }
 ],
 "metadata": {
  "kernelspec": {
   "display_name": "Python 3",
   "language": "python",
   "name": "python3"
  },
  "language_info": {
   "codemirror_mode": {
    "name": "ipython",
    "version": 3
   },
   "file_extension": ".py",
   "mimetype": "text/x-python",
   "name": "python",
   "nbconvert_exporter": "python",
   "pygments_lexer": "ipython3",
   "version": "3.12.1"
  }
 },
 "nbformat": 4,
 "nbformat_minor": 2
}
